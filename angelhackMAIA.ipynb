{
 "cells": [
  {
   "cell_type": "markdown",
   "metadata": {},
   "source": [
    "# Detección de fraude en llamadas telefónicas\n",
    "\n",
    "                                by MAIA\n",
    "                                \n",
    "                               \n",
    "Using Speech to Text by dictation.io (https://dictation.io), Watson Natural Language Understanding, Watson Assistante and python."
   ]
  },
  {
   "cell_type": "code",
   "execution_count": 293,
   "metadata": {},
   "outputs": [
    {
     "name": "stdout",
     "output_type": "stream",
     "text": [
      "Claudia Macías por favor Dra Claudia me da mucho gusto saludarla mi nombre es Carolina Pineda nos comunicó la compañía Market Plus en este momento me comunicó con usted señora Claudia para verificar si le entregaron la información referente a la ampliación de servicios y coberturas que se entregan por manejar tarjeta crédito doña Claudia reciba información Okay en este momento algo de feliz de la señora Claudia Macías documento 35 3 93352 Es que le va a llegar a la carrera 3a el número 985 interior 4 casa 19 correcto correcto en este momento tengo la clave para validar información hacer entrega a su portafolio preferencial vamos a tomar la tarjeta crédito Visa O mastercard y vamos a verificar para que me sigan al entregarme sin el plástico recuerdo hacer para que mi ex ya no le caduca tu tarjeta de crédito señora Claudia pero de qué banco tarjetas Banco Popular bancolombia davivienda No importa la práctica que usted lo que directamente no importa la entidad Qué pena sino la cantidad que se está manejando acuerdo Bueno pero con Ninguno de los tres tengo tarjetas señora Claudia Macías Confirmamos a mí lo que necesitaba lo que corresponde a colpatria social BBVA citybar falabella pichincha Replay todas las tarjetas credito que se está manejando la respalda una entidad bancaria yo con la práctica acuerdo crédito me recuerda su nombre Carolina Pineda que buscan esa forma prestarse para robar Trátame con señora Claudia en este momento lo que estamos haciendo y entregando la información qué le roban soy gerente el banco davivienda sucursal mosquera y yo como\n"
     ]
    }
   ],
   "source": [
    "import json\n",
    "import watson_developer_cloud\n",
    "from textblob import TextBlob\n",
    "import pandas as pd\n",
    "from watson_developer_cloud import NaturalLanguageUnderstandingV1\n",
    "from watson_developer_cloud.natural_language_understanding_v1 import Features, EntitiesOptions, KeywordsOptions\n",
    "\n",
    "assistant = watson_developer_cloud.AssistantV1(\n",
    "    username='e413ab5f-63b3-421d-b898-9bbfd152f204',\n",
    "    password='lNW5riPi1lSw',\n",
    "    version='2018-07-10'\n",
    ")\n",
    "\n",
    "natural_language_understanding = NaturalLanguageUnderstandingV1(\n",
    "    version='2018-03-16',\n",
    "    username='45eb5d28-6569-4564-b62b-96868f5736b1',\n",
    "    password='55CUYCZ6Mz2U'\n",
    ")\n",
    "\n",
    "def call_api_nlu(t):\n",
    "    response = natural_language_understanding.analyze(\n",
    "    text=t,\n",
    "    language=\"es\",\n",
    "    features=Features(\n",
    "    entities=EntitiesOptions(\n",
    "      emotion=True,\n",
    "      sentiment=True,\n",
    "      limit=10),\n",
    "    keywords=KeywordsOptions(\n",
    "      emotion=True,\n",
    "      sentiment=True,\n",
    "      limit=10)))\n",
    "    try:\n",
    "        return response[\"entities\"][0][\"sentiment\"][\"score\"]\n",
    "    except:\n",
    "        return 0.0\n",
    "\n",
    "def call_api(t):\n",
    "    response = assistant.message(\n",
    "    workspace_id='77b0fd76-9e00-483c-8160-5ce870660730',\n",
    "    input={\n",
    "        'text': t\n",
    "    }\n",
    "    )\n",
    "    result = response['intents']\n",
    "    if len(result) == 0:\n",
    "        intent = 'neutro'\n",
    "        confidence = 0.0\n",
    "    else:\n",
    "        confidence = response['intents'][0]['confidence']\n",
    "        intent = response['intents'][0]['intent']\n",
    "    return [confidence,intent]\n",
    "    \n",
    "text = open('v1.txt','r').read()\n",
    "#df = pd.read_csv('v2.txt', sep='\\t', engine='python')\n",
    "#str = unicode(str, errors='ignore')\n",
    "#text = df.to_string()\n",
    "print(text)"
   ]
  },
  {
   "cell_type": "code",
   "execution_count": 294,
   "metadata": {},
   "outputs": [
    {
     "name": "stdout",
     "output_type": "stream",
     "text": [
      "['Claudia', 'Macías', 'por', 'favor', 'Dra', 'Claudia', 'me', 'da', 'mucho', 'gusto', 'saludarla', 'mi', 'nombre', 'es', 'Carolina', 'Pineda', 'nos', 'comunicó', 'la', 'compañía', 'Market', 'Plus', 'en', 'este', 'momento', 'me', 'comunicó', 'con', 'usted', 'señora', 'Claudia', 'para', 'verificar', 'si', 'le', 'entregaron', 'la', 'información', 'referente', 'a', 'la', 'ampliación', 'de', 'servicios', 'y', 'coberturas', 'que', 'se', 'entregan', 'por', 'manejar', 'tarjeta', 'crédito', 'doña', 'Claudia', 'reciba', 'información', 'Okay', 'en', 'este', 'momento', 'algo', 'de', 'feliz', 'de', 'la', 'señora', 'Claudia', 'Macías', 'documento', '35', '3', '93352', 'Es', 'que', 'le', 'va', 'a', 'llegar', 'a', 'la', 'carrera', '3a', 'el', 'número', '985', 'interior', '4', 'casa', '19', 'correcto', 'correcto', 'en', 'este', 'momento', 'tengo', 'la', 'clave', 'para', 'validar', 'información', 'hacer', 'entrega', 'a', 'su', 'portafolio', 'preferencial', 'vamos', 'a', 'tomar', 'la', 'tarjeta', 'crédito', 'Visa', 'O', 'mastercard', 'y', 'vamos', 'a', 'verificar', 'para', 'que', 'me', 'sigan', 'al', 'entregarme', 'sin', 'el', 'plástico', 'recuerdo', 'hacer', 'para', 'que', 'mi', 'ex', 'ya', 'no', 'le', 'caduca', 'tu', 'tarjeta', 'de', 'crédito', 'señora', 'Claudia', 'pero', 'de', 'qué', 'banco', 'tarjetas', 'Banco', 'Popular', 'bancolombia', 'davivienda', 'No', 'importa', 'la', 'práctica', 'que', 'usted', 'lo', 'que', 'directamente', 'no', 'importa', 'la', 'entidad', 'Qué', 'pena', 'sino', 'la', 'cantidad', 'que', 'se', 'está', 'manejando', 'acuerdo', 'Bueno', 'pero', 'con', 'Ninguno', 'de', 'los', 'tres', 'tengo', 'tarjetas', 'señora', 'Claudia', 'Macías', 'Confirmamos', 'a', 'mí', 'lo', 'que', 'necesitaba', 'lo', 'que', 'corresponde', 'a', 'colpatria', 'social', 'BBVA', 'citybar', 'falabella', 'pichincha', 'Replay', 'todas', 'las', 'tarjetas', 'credito', 'que', 'se', 'está', 'manejando', 'la', 'respalda', 'una', 'entidad', 'bancaria', 'yo', 'con', 'la', 'práctica', 'acuerdo', 'crédito', 'me', 'recuerda', 'su', 'nombre', 'Carolina', 'Pineda', 'que', 'buscan', 'esa', 'forma', 'prestarse', 'para', 'robar', 'Trátame', 'con', 'señora', 'Claudia', 'en', 'este', 'momento', 'lo', 'que', 'estamos', 'haciendo', 'y', 'entregando', 'la', 'información', 'qué', 'le', 'roban', 'soy', 'gerente', 'el', 'banco', 'davivienda', 'sucursal', 'mosquera', 'y', 'yo', 'como']\n"
     ]
    }
   ],
   "source": [
    "blob = TextBlob(text)\n",
    "words = blob.words\n",
    "print(words)"
   ]
  },
  {
   "cell_type": "code",
   "execution_count": 295,
   "metadata": {
    "collapsed": true
   },
   "outputs": [],
   "source": [
    "num_palabras = 6\n",
    "sentence = ''\n",
    "dicti = {}\n",
    "for i,w in enumerate(words):\n",
    "    if i%num_palabras == 0:\n",
    "        if len(sentence)!=0:\n",
    "            lista = []\n",
    " \n",
    "            #print (call_api(sentence))\n",
    "            #print (sentence)\n",
    "            #print (call_api_nlu(sentence))\n",
    "            ci = call_api(sentence)\n",
    "            \n",
    "            sentiment = call_api_nlu(sentence)\n",
    "            ci.append(sentiment)\n",
    "            ci.append(1)\n",
    "            \n",
    "            #print(ci)\n",
    "            dicti[sentence] = ci\n",
    "            sentence = ''\n",
    "    else:\n",
    "        sentence += ' ' + w\n",
    "#print(dicti)\n",
    "#print(final.head())\n",
    "#final = pd.DataFrame(dicti)\n",
    "#final = pd.DataFrame(dicti.items(), columns = [\"Text\",\"Confidence\",\"Intent\",\"Sentiment\",\"Fraud\"])\n",
    "\n"
   ]
  },
  {
   "cell_type": "code",
   "execution_count": 296,
   "metadata": {},
   "outputs": [
    {
     "name": "stdout",
     "output_type": "stream",
     "text": [
      "                                  Confidence  Intent  Sentiment  Fraud\n",
      " Macías por favor Dra Claudia            0.0  neutro   0.000000      1\n",
      " da mucho gusto saludarla mi             0.0  neutro   0.000000      1\n",
      " es Carolina Pineda nos comunicó         0.0  neutro  -0.542046      1\n",
      " compañía Market Plus en este            0.0  neutro   0.000000      1\n",
      " me comunicó con usted señora            0.0  neutro   0.000000      1\n"
     ]
    }
   ],
   "source": [
    "final = pd.DataFrame.from_dict(dicti,orient='index')#,columns = [\"Confidence\",\"Intent\",\"Sentiment\",\"Fraud\"])\n",
    "final.columns = [\"Confidence\",\"Intent\",\"Sentiment\",\"Fraud\"]\n",
    "print(final.head())"
   ]
  },
  {
   "cell_type": "code",
   "execution_count": 297,
   "metadata": {},
   "outputs": [
    {
     "data": {
      "text/html": [
       "<div>\n",
       "<style>\n",
       "    .dataframe thead tr:only-child th {\n",
       "        text-align: right;\n",
       "    }\n",
       "\n",
       "    .dataframe thead th {\n",
       "        text-align: left;\n",
       "    }\n",
       "\n",
       "    .dataframe tbody tr th {\n",
       "        vertical-align: top;\n",
       "    }\n",
       "</style>\n",
       "<table border=\"1\" class=\"dataframe\">\n",
       "  <thead>\n",
       "    <tr style=\"text-align: right;\">\n",
       "      <th></th>\n",
       "      <th>Confidence</th>\n",
       "      <th>Intent</th>\n",
       "      <th>Sentiment</th>\n",
       "      <th>Fraud</th>\n",
       "    </tr>\n",
       "  </thead>\n",
       "  <tbody>\n",
       "    <tr>\n",
       "      <th>Macías por favor Dra Claudia</th>\n",
       "      <td>0.0</td>\n",
       "      <td>neutro</td>\n",
       "      <td>0.000000</td>\n",
       "      <td>1</td>\n",
       "    </tr>\n",
       "    <tr>\n",
       "      <th>da mucho gusto saludarla mi</th>\n",
       "      <td>0.0</td>\n",
       "      <td>neutro</td>\n",
       "      <td>0.000000</td>\n",
       "      <td>1</td>\n",
       "    </tr>\n",
       "    <tr>\n",
       "      <th>es Carolina Pineda nos comunicó</th>\n",
       "      <td>0.0</td>\n",
       "      <td>neutro</td>\n",
       "      <td>-0.542046</td>\n",
       "      <td>1</td>\n",
       "    </tr>\n",
       "    <tr>\n",
       "      <th>compañía Market Plus en este</th>\n",
       "      <td>0.0</td>\n",
       "      <td>neutro</td>\n",
       "      <td>0.000000</td>\n",
       "      <td>1</td>\n",
       "    </tr>\n",
       "    <tr>\n",
       "      <th>me comunicó con usted señora</th>\n",
       "      <td>0.0</td>\n",
       "      <td>neutro</td>\n",
       "      <td>0.000000</td>\n",
       "      <td>1</td>\n",
       "    </tr>\n",
       "  </tbody>\n",
       "</table>\n",
       "</div>"
      ],
      "text/plain": [
       "                                  Confidence  Intent  Sentiment  Fraud\n",
       " Macías por favor Dra Claudia            0.0  neutro   0.000000      1\n",
       " da mucho gusto saludarla mi             0.0  neutro   0.000000      1\n",
       " es Carolina Pineda nos comunicó         0.0  neutro  -0.542046      1\n",
       " compañía Market Plus en este            0.0  neutro   0.000000      1\n",
       " me comunicó con usted señora            0.0  neutro   0.000000      1"
      ]
     },
     "execution_count": 297,
     "metadata": {},
     "output_type": "execute_result"
    }
   ],
   "source": [
    "final.head()"
   ]
  },
  {
   "cell_type": "code",
   "execution_count": 298,
   "metadata": {},
   "outputs": [
    {
     "name": "stdout",
     "output_type": "stream",
     "text": [
      "{' como': [0.862876319885254, 'saludo', 0.0, 0], ' en mi vida amor ahí': [0.0, 'neutro', 0.0, 0], ' saluda y en era dorada': [0.0, 'neutro', 0.0, 0], ' banco de crédito desearle la': [0.952663278579712, 'tarjeta', 0.0, 0], ' oportunidad de afiliarse a la': [0.0, 'neutro', 0.0, 0], ' del banco de crédito comprar': [0.947545623779297, 'tarjeta', 0.0, 0], ' más de 1000 establecimientos afiliados': [0.8071368694305421, 'saludo', 0.0, 0], ' con una línea de crédito': [0.9575325965881347, 'tarjeta', 0.0, 0], ' mil soles el uso de': [0.0, 'neutro', 0.0, 0], ' de dinero Define alguna emergencia': [0.0, 'neutro', 0.0, 0], ' no cuenta con efectivo en': [0.0, 'neutro', 0.0, 0], ' momento tarjeta de crédito usted': [0.9981430053710938, 'tarjeta', 0.0, 0], ' a poder contar con este': [0.0, 'neutro', 0.0, 0], ' en efectivo para retirar en': [0.0, 'neutro', 0.0, 0], ' agente bcp en ventanilla estaría': [0.0, 'neutro', 0.0, 0], ' exonerada intereses por 6 meses': [0.0, 'neutro', 0.0, 0], ' necesitó su copia de un': [0.0, 'neutro', 0.0, 0], ' de servicio pulsar del uso': [0.0, 'neutro', 0.0, 0], ' agua espero mañana a las': [0.0, 'neutro', 0.0, 0], ' de la tarde para hacerle': [0.23034024477508697, 'saludo', 0.0, 0], ' de su tarjeta tarjeta de': [0.9753415584564209, 'tarjeta', 0.0, 0], ' cuenta con seguro contra robo': [0.0, 'neutro', 0.0, 0], ' la tarjeta y deterioro de': [0.9589931011199953, 'tarjeta', 0.0, 0], ' misma también las compras que': [0.0, 'neutro', 0.0, 0], ' realiza las va a poder': [0.26511898558823077, 'saludo', 0.0, 0], ' hasta en 36 meses y': [0.0, 'neutro', 0.0, 0], ' las cuotas mínimas una tarjeta': [0.9529387950897217, 'tarjeta', 0.0, 0], ' crédito siempre es necesario para': [0.9481801509857177, 'tarjeta', 0.0, 0], ' emergencia o simplemente para darte': [0.0, 'neutro', 0.0, 0], ' distrito a esta gran promoción': [0.0, 'neutro', 0.0, 0], ' le va a traer grandes': [0.2997152509553729, 'saludo', 0.0, 0], ' alguna duda algo pero mañana': [0.0, 'neutro', 0.0, 0], ' el banco niña para entregarle': [0.0, 'neutro', 0.0, 0], ' tarjeta de crédito su copia': [0.9981430053710938, 'tarjeta', 0.0, 0], ' dni y copia de algún': [0.0, 'neutro', 0.0, 0], ' básico Muchas gracias por su': [0.0, 'neutro', 0.0, 0]}\n"
     ]
    }
   ],
   "source": [
    "text2 = open('v2.txt','r').read()\n",
    "blob = TextBlob(text2)\n",
    "words = blob.words\n",
    "#print(words)\n",
    "dicti = {}\n",
    "for i,w in enumerate(words):\n",
    "    if i%num_palabras == 0:\n",
    "        if len(sentence)!=0:\n",
    "            lista = []\n",
    " \n",
    "            #print (call_api(sentence))\n",
    "            #print (sentence)\n",
    "            #print (call_api_nlu(sentence))\n",
    "            ci = call_api(sentence)\n",
    "            \n",
    "            sentiment = call_api_nlu(sentence)\n",
    "            ci.append(sentiment)\n",
    "            ci.append(0)\n",
    "            \n",
    "            #print(ci)\n",
    "            dicti[sentence] = ci\n",
    "            sentence = ''\n",
    "    else:\n",
    "        sentence += ' ' + w\n",
    "print(dicti)\n",
    "#print(final.head())\n"
   ]
  },
  {
   "cell_type": "code",
   "execution_count": 299,
   "metadata": {},
   "outputs": [
    {
     "name": "stdout",
     "output_type": "stream",
     "text": [
      "                                Confidence   Intent  Sentiment  Fraud\n",
      " como                             0.862876   saludo        0.0      0\n",
      " en mi vida amor ahí              0.000000   neutro        0.0      0\n",
      " saluda y en era dorada           0.000000   neutro        0.0      0\n",
      " banco de crédito desearle la     0.952663  tarjeta        0.0      0\n",
      " oportunidad de afiliarse a la    0.000000   neutro        0.0      0\n"
     ]
    }
   ],
   "source": [
    "final2 = pd.DataFrame.from_dict(dicti,orient='index')#,columns = [\"Confidence\",\"Intent\",\"Sentiment\",\"Fraud\"])\n",
    "final2.columns = [\"Confidence\",\"Intent\",\"Sentiment\",\"Fraud\"]\n",
    "print(final2.head())"
   ]
  },
  {
   "cell_type": "code",
   "execution_count": 300,
   "metadata": {},
   "outputs": [
    {
     "name": "stdout",
     "output_type": "stream",
     "text": [
      "{' la esperanza hasta luego': [0.0, 'neutro', 0.0], ' buenos días hablar con el': [0.9583917617797852, 'saludo', 0.0], ' Carlos rent Carlos mucho gusto': [0.0, 'neutro', 0.886528], ' nombre es Aura se comunicó': [0.0, 'neutro', 0.0], ' sistema preferencial de credibanco visa': [0.2149772299720553, 'tarjeta', 0.0], ' mastercard Muchas gracias bueno Me': [0.2777636937120178, 'saludo', 0.0], ' mucho sueño con el día': [0.2417075393548686, 'saludo', 0.0], ' hoy vamos aclarar tu voz': [0.0, 'neutro', 0.0], ' YouTube okay lentes por el': [0.0, 'neutro', 0.0], ' activación de sus partes anime': [0.0, 'neutro', 0.0], ' alguna duda reino infantil la': [0.0, 'neutro', 0.0], ' sonrisa y mar Cartagena Barranquilla': [0.0, 'neutro', 0.0], ' Marta principales Cómo se hizo': [0.862876319885254, 'saludo', 0.0], ' tiene todo incluido 4 o': [0.0, 'neutro', 0.0], ' estrellas monte con desayuno almuerzo': [0.0, 'neutro', 0.0], ' cena 3 días 2 noches': [0.40746979364564595, 'saludo', 0.868568], ' con con un descuento especial': [0.0, 'neutro', 0.0], ' 15 al 30 elijo viajar': [0.0, 'neutro', 0.0], ' perfecto adicionalmente a eso señor': [0.0, 'neutro', 0.0], ' frases Party hard Extreme La': [0.0, 'neutro', 0.531194], ' cundinamarca Bogotá el 655000 36': [0.0, 'neutro', 0.0], ' 18 no le corresponde cuando': [0.0, 'neutro', 0.0], ' los retira correcto buenos y': [0.9249104976654052, 'saludo', 0.0], ' recuerdos infanti temporal reservaciones se': [0.0, 'neutro', 0.0], ' comunicar con 15 días de': [0.7964417457580566, 'saludo', 0.0], ' para poder empezar se lo': [0.0, 'neutro', 0.0], ' a tener ningún inconveniente en': [0.0, 'neutro', 0.0], ' obra Edipo rey melosa sí': [0.0, 'neutro', 0.0], ' Belén perfecto conjunto como es': [0.3738883882895039, 'saludo', 0.0], ' nombre del pollito campestre apartamentos': [0.0, 'neutro', 0.0], ' escasa número 5 85 Junior': [0.0, 'neutro', 0.0], ' con el número de cédula': [0.0, 'neutro', 0.0], ' bueno perfecto si no sale': [0.35988510022334874, 'saludo', 0.0], ' llamada está siendo grabada y': [0.0, 'neutro', 0.0], ' información inundaciones actualmente por medio': [0.0, 'neutro', 0.0], ' se forma entendí la pregunta': [0.0, 'neutro', 0.0], ' sal Vente con nosotros por': [0.0, 'neutro', 0.0], ' de visa Master American Express': [0.0, 'neutro', 0.0], ' América con American Express el': [0.0, 'neutro', 0.516989], ' Carlos es tan amable la': [0.0, 'neutro', 0.0], ' de vencimiento El táctico Americano': [0.0, 'neutro', 0.0], ' un mes y un año': [0.0, 'neutro', 0.0], ' 8 del año 18 árbol': [0.0, 'neutro', 0.0], ' el Señor Carlos por favor': [0.0, 'neutro', -0.439592], ' letra deciles al público empiezan': [0.0, 'neutro', 0.0], ' el número 13 Sí pero': [0.0, 'neutro', 0.0], ' 35 78 Buscar mismo bien': [0.0, 'neutro', 0.0], ' traducido por favor Sí señora': [0.0, 'neutro', 0.0], ' sí me está diciendo sí': [0.0, 'neutro', 0.0], ' sol 15 dígitos 8 Es': [0.0, 'neutro', 0.0], ' si es correcto persona amable': [0.0, 'neutro', 0.0], ' cristeros el alto relieve Mira': [0.0, 'neutro', 0.0], ' Yo no te daré el': [0.3037808830062261, 'saludo', 0.0], ' de mi tarjeta de crédito': [0.9981749057769775, 'tarjeta', 0.0], ' loca No mi amor Si': [0.0, 'neutro', 0.0], ' estás Cómo hacer una tarjeta': [0.8148534774780274, 'tarjeta', 0.0], ' persona desconocida en este momento': [0.0, 'neutro', 0.0], ' de huevonear con eso sino': [0.0, 'neutro', 0.0], ' va a dar mis números': [0.26105224742241834, 'saludo', 0.0]}\n"
     ]
    }
   ],
   "source": [
    "text3 = open('v3.txt','r').read()\n",
    "blob = TextBlob(text3)\n",
    "words = blob.words\n",
    "#print(words)\n",
    "dicti = {}\n",
    "for i,w in enumerate(words):\n",
    "    if i%num_palabras == 0:\n",
    "        if len(sentence)!=0:\n",
    "            lista = []\n",
    " \n",
    "            #print (call_api(sentence))\n",
    "            #print (sentence)\n",
    "            #print (call_api_nlu(sentence))\n",
    "            ci = call_api(sentence)\n",
    "            \n",
    "            sentiment = call_api_nlu(sentence)\n",
    "            ci.append(sentiment)\n",
    "            #ci.append(0)\n",
    "            \n",
    "            #print(ci)\n",
    "            dicti[sentence] = ci\n",
    "            sentence = ''\n",
    "    else:\n",
    "        sentence += ' ' + w\n",
    "print(dicti)\n",
    "#print(final.head())"
   ]
  },
  {
   "cell_type": "code",
   "execution_count": 301,
   "metadata": {},
   "outputs": [
    {
     "name": "stdout",
     "output_type": "stream",
     "text": [
      "                                          Confidence   Intent  Sentiment\n",
      " la esperanza hasta luego                   0.000000   neutro   0.000000\n",
      " buenos días hablar con el                  0.958392   saludo   0.000000\n",
      " Carlos rent Carlos mucho gusto             0.000000   neutro   0.886528\n",
      " nombre es Aura se comunicó                 0.000000   neutro   0.000000\n",
      " sistema preferencial de credibanco visa    0.214977  tarjeta   0.000000\n"
     ]
    }
   ],
   "source": [
    "final3 = pd.DataFrame.from_dict(dicti,orient='index')#,columns = [\"Confidence\",\"Intent\",\"Sentiment\",\"Fraud\"])\n",
    "final3.columns = [\"Confidence\",\"Intent\",\"Sentiment\"]\n",
    "print(final3.head())"
   ]
  },
  {
   "cell_type": "code",
   "execution_count": 302,
   "metadata": {},
   "outputs": [
    {
     "name": "stdout",
     "output_type": "stream",
     "text": [
      "                                  Confidence  Intent  Sentiment  Fraud\n",
      " Macías por favor Dra Claudia            0.0  neutro   0.000000      1\n",
      " da mucho gusto saludarla mi             0.0  neutro   0.000000      1\n",
      " es Carolina Pineda nos comunicó         0.0  neutro  -0.542046      1\n",
      " compañía Market Plus en este            0.0  neutro   0.000000      1\n",
      " me comunicó con usted señora            0.0  neutro   0.000000      1\n"
     ]
    }
   ],
   "source": [
    "df_total = pd.concat([final,final2])\n",
    "print(df_total.head())"
   ]
  },
  {
   "cell_type": "code",
   "execution_count": 303,
   "metadata": {
    "collapsed": true
   },
   "outputs": [],
   "source": [
    "from sklearn.ensemble import RandomForestClassifier"
   ]
  },
  {
   "cell_type": "code",
   "execution_count": 304,
   "metadata": {},
   "outputs": [
    {
     "name": "stdout",
     "output_type": "stream",
     "text": [
      "                                  Confidence  Sentiment  Fraud  Intent_neutro  \\\n",
      " Macías por favor Dra Claudia            0.0   0.000000      1              1   \n",
      " da mucho gusto saludarla mi             0.0   0.000000      1              1   \n",
      " es Carolina Pineda nos comunicó         0.0  -0.542046      1              1   \n",
      " compañía Market Plus en este            0.0   0.000000      1              1   \n",
      " me comunicó con usted señora            0.0   0.000000      1              1   \n",
      "\n",
      "                                  Intent_saludo  Intent_tarjeta  \n",
      " Macías por favor Dra Claudia                 0               0  \n",
      " da mucho gusto saludarla mi                  0               0  \n",
      " es Carolina Pineda nos comunicó              0               0  \n",
      " compañía Market Plus en este                 0               0  \n",
      " me comunicó con usted señora                 0               0  \n"
     ]
    }
   ],
   "source": [
    "df_total2 = pd.get_dummies(data=df_total,columns=[\"Intent\"])\n",
    "print(df_total2.head())\n"
   ]
  },
  {
   "cell_type": "code",
   "execution_count": 314,
   "metadata": {},
   "outputs": [
    {
     "data": {
      "text/plain": [
       "RandomForestClassifier(bootstrap=True, class_weight=None, criterion='gini',\n",
       "            max_depth=10, max_features='auto', max_leaf_nodes=None,\n",
       "            min_impurity_decrease=0.0, min_impurity_split=None,\n",
       "            min_samples_leaf=1, min_samples_split=2,\n",
       "            min_weight_fraction_leaf=0.0, n_estimators=100, n_jobs=1,\n",
       "            oob_score=False, random_state=0, verbose=0, warm_start=False)"
      ]
     },
     "execution_count": 314,
     "metadata": {},
     "output_type": "execute_result"
    }
   ],
   "source": [
    "y = df_total2['Fraud']\n",
    "X = df_total2.drop(['Fraud'], axis=1)\n",
    "forest = RandomForestClassifier(n_estimators=100, max_depth = 10, random_state = 0)\n",
    "forest.fit(X,y)"
   ]
  },
  {
   "cell_type": "code",
   "execution_count": 315,
   "metadata": {},
   "outputs": [
    {
     "name": "stdout",
     "output_type": "stream",
     "text": [
      "                                          Confidence  Sentiment  \\\n",
      " la esperanza hasta luego                   0.000000   0.000000   \n",
      " buenos días hablar con el                  0.958392   0.000000   \n",
      " Carlos rent Carlos mucho gusto             0.000000   0.886528   \n",
      " nombre es Aura se comunicó                 0.000000   0.000000   \n",
      " sistema preferencial de credibanco visa    0.214977   0.000000   \n",
      "\n",
      "                                          Intent_neutro  Intent_saludo  \\\n",
      " la esperanza hasta luego                             1              0   \n",
      " buenos días hablar con el                            0              1   \n",
      " Carlos rent Carlos mucho gusto                       1              0   \n",
      " nombre es Aura se comunicó                           1              0   \n",
      " sistema preferencial de credibanco visa              0              0   \n",
      "\n",
      "                                          Intent_tarjeta  \n",
      " la esperanza hasta luego                              0  \n",
      " buenos días hablar con el                             0  \n",
      " Carlos rent Carlos mucho gusto                        0  \n",
      " nombre es Aura se comunicó                            0  \n",
      " sistema preferencial de credibanco visa               1  \n"
     ]
    }
   ],
   "source": [
    "df_test = pd.get_dummies(data=final3,columns=[\"Intent\"])\n",
    "print(df_test.head())"
   ]
  },
  {
   "cell_type": "code",
   "execution_count": 316,
   "metadata": {},
   "outputs": [
    {
     "name": "stdout",
     "output_type": "stream",
     "text": [
      "[1 0 1 1 1 0 0 1 1 1 1 1 0 1 1 1 1 1 1 1 1 1 0 1 0 1 1 1 1 1 1 1 1 1 1 1 1\n",
      " 1 1 1 1 1 1 1 1 1 1 1 1 1 1 1 0 0 1 0 1 1 0]\n"
     ]
    }
   ],
   "source": [
    "prediccion = forest.predict(df_test)\n",
    "print(prediccion)"
   ]
  },
  {
   "cell_type": "code",
   "execution_count": 308,
   "metadata": {},
   "outputs": [
    {
     "name": "stdout",
     "output_type": "stream",
     "text": [
      "Probabilidad de que sea fraude: [1.0, 0.5, 0.66666666666666663, 0.75, 0.59999999999999998, 0.5, 0.42857142857142855, 0.5, 0.55555555555555558, 0.59999999999999998, 0.63636363636363635, 0.66666666666666663, 0.61538461538461542, 0.6428571428571429, 0.66666666666666663, 0.625, 0.6470588235294118, 0.66666666666666663, 0.68421052631578949, 0.69999999999999996, 0.7142857142857143, 0.72727272727272729, 0.69565217391304346, 0.70833333333333337, 0.68000000000000005, 0.69230769230769229, 0.70370370370370372, 0.7142857142857143, 0.68965517241379315, 0.69999999999999996, 0.70967741935483875, 0.71875, 0.69696969696969702, 0.70588235294117652, 0.7142857142857143, 0.72222222222222221, 0.72972972972972971, 0.73684210526315785, 0.74358974358974361, 0.75, 0.75609756097560976, 0.76190476190476186, 0.76744186046511631, 0.77272727272727271, 0.77777777777777779, 0.78260869565217395, 0.78723404255319152, 0.79166666666666663, 0.79591836734693877, 0.80000000000000004, 0.80392156862745101, 0.80769230769230771, 0.79245283018867929, 0.77777777777777779, 0.78181818181818186, 0.7678571428571429, 0.77192982456140347, 0.77586206896551724, 0.76271186440677963]\n"
     ]
    }
   ],
   "source": [
    "import numpy as np\n",
    "Probabilidad = np.cumsum(prediccion)\n",
    "prob = [vector/(i+1) for i,vector in enumerate(Probabilidad)]\n",
    "print('Probabilidad de que sea fraude:',prob)"
   ]
  },
  {
   "cell_type": "code",
   "execution_count": 309,
   "metadata": {},
   "outputs": [
    {
     "name": "stdout",
     "output_type": "stream",
     "text": [
      "{' vieja está tumbando gente ahora': [0.0, 'neutro', 0.0], ' clientes siempre visitan nuestras tiendas': [0.0, 'neutro', 0.0], ' algún proyecto en mente y': [0.0, 'neutro', 0.0], ' objetivo es ayudarnos a que': [0.0, 'neutro', 0.0], ' puedan realizar otorgándoles todos los': [0.0, 'neutro', 0.0], ' que es Mr ha creado': [0.0, 'neutro', 0.0], ' ellos de la nueva tarjeta': [0.9589931011199953, 'tarjeta', 0.0], ' visa cmr visa es uno': [0.0, 'neutro', 0.0], ' los proyectos más importantes en': [0.7713552951812745, 'saludo', 0.0], ' historia de Nuestra Empresa chiste': [0.0, 'neutro', 0.0], ' el lanzamiento de un nuevo': [0.0, 'neutro', 0.0], ' que le brindará mayores beneficios': [0.0, 'neutro', 0.0], ' más conveniencia a nuestros clientes': [0.8153989791870118, 'saludo', 0.0], ' visa es el resultado de': [0.0, 'neutro', 0.0], ' alianza entre el emisor número': [0.0, 'neutro', 0.0], ' de tarjetas de crédito en': [0.9982351779937744, 'tarjeta', 0.0], ' mundo visa y el emisor': [0.0, 'neutro', 0.0], ' uno de tarjetas de crédito': [0.9982351779937744, 'tarjeta', 0.0], ' Chile cmr falabella Mr de': [0.0, 'neutro', 0.0], ' los mismos bajos intereses de': [0.0, 'neutro', 0.0], ' mejor variedad de productos de': [0.2636517843255888, 'saludo', 0.0], ' en el programa cmr acceso': [0.0, 'neutro', 0.0], ' las oportunidades única en las': [0.0, 'neutro', 0.0], ' del grupo falabella miente porque': [0.2208719007751654, 'saludo', -0.459343], ' tiene comisión en compras nacionales': [0.0, 'neutro', 0.0], ' internacionales es aceptada en cualquier': [0.0, 'neutro', 0.0], ' en chile y en todo': [0.0, 'neutro', 0.0], ' mundo donde acepten tarjeta visa': [0.9560751438140869, 'tarjeta', 0.0], ' le da acceso a cajeros': [0.0, 'neutro', 0.0], ' Bank en todo chile y': [0.0, 'neutro', 0.0], ' en todo el mundo y': [0.0, 'neutro', 0.0], ' más importante es que todos': [0.4003145067381439, 'saludo', 0.0], ' beneficios no tienen costo de': [0.0, 'neutro', 0.0]}\n"
     ]
    }
   ],
   "source": [
    "text4 = open('v4.txt','r').read()\n",
    "blob = TextBlob(text4)\n",
    "words = blob.words\n",
    "#print(words)\n",
    "dicti = {}\n",
    "for i,w in enumerate(words):\n",
    "    if i%num_palabras == 0:\n",
    "        if len(sentence)!=0:\n",
    "            lista = []\n",
    " \n",
    "            #print (call_api(sentence))\n",
    "            #print (sentence)\n",
    "            #print (call_api_nlu(sentence))\n",
    "            ci = call_api(sentence)\n",
    "            \n",
    "            sentiment = call_api_nlu(sentence)\n",
    "            ci.append(sentiment)\n",
    "            #ci.append(0)\n",
    "            \n",
    "            #print(ci)\n",
    "            dicti[sentence] = ci\n",
    "            sentence = ''\n",
    "    else:\n",
    "        sentence += ' ' + w\n",
    "print(dicti)\n",
    "#print(final.head())"
   ]
  },
  {
   "cell_type": "code",
   "execution_count": 317,
   "metadata": {},
   "outputs": [
    {
     "name": "stdout",
     "output_type": "stream",
     "text": [
      "                                            Confidence  Intent  Sentiment\n",
      " vieja está tumbando gente ahora                   0.0  neutro        0.0\n",
      " clientes siempre visitan nuestras tiendas         0.0  neutro        0.0\n",
      " algún proyecto en mente y                         0.0  neutro        0.0\n",
      " objetivo es ayudarnos a que                       0.0  neutro        0.0\n",
      " puedan realizar otorgándoles todos los            0.0  neutro        0.0\n"
     ]
    }
   ],
   "source": [
    "final4 = pd.DataFrame.from_dict(dicti,orient='index')#,columns = [\"Confidence\",\"Intent\",\"Sentiment\",\"Fraud\"])\n",
    "final4.columns = [\"Confidence\",\"Intent\",\"Sentiment\"]\n",
    "print(final4.head())"
   ]
  },
  {
   "cell_type": "code",
   "execution_count": 311,
   "metadata": {},
   "outputs": [
    {
     "name": "stdout",
     "output_type": "stream",
     "text": [
      "                                            Confidence  Sentiment  \\\n",
      " vieja está tumbando gente ahora                   0.0        0.0   \n",
      " clientes siempre visitan nuestras tiendas         0.0        0.0   \n",
      " algún proyecto en mente y                         0.0        0.0   \n",
      " objetivo es ayudarnos a que                       0.0        0.0   \n",
      " puedan realizar otorgándoles todos los            0.0        0.0   \n",
      "\n",
      "                                            Intent_neutro  Intent_saludo  \\\n",
      " vieja está tumbando gente ahora                        1              0   \n",
      " clientes siempre visitan nuestras tiendas              1              0   \n",
      " algún proyecto en mente y                              1              0   \n",
      " objetivo es ayudarnos a que                            1              0   \n",
      " puedan realizar otorgándoles todos los                 1              0   \n",
      "\n",
      "                                            Intent_tarjeta  \n",
      " vieja está tumbando gente ahora                         0  \n",
      " clientes siempre visitan nuestras tiendas               0  \n",
      " algún proyecto en mente y                               0  \n",
      " objetivo es ayudarnos a que                             0  \n",
      " puedan realizar otorgándoles todos los                  0  \n"
     ]
    }
   ],
   "source": [
    "df_test2 = pd.get_dummies(data=final4,columns=[\"Intent\"])\n",
    "print(df_test2.head())"
   ]
  },
  {
   "cell_type": "code",
   "execution_count": 318,
   "metadata": {},
   "outputs": [
    {
     "name": "stdout",
     "output_type": "stream",
     "text": [
      "[1 1 1 1 1 1 0 1 0 1 1 1 0 1 1 0 1 0 1 1 0 1 1 0 1 1 1 0 1 1 1 1 1]\n"
     ]
    }
   ],
   "source": [
    "prediccion = forest.predict(df_test2)\n",
    "print(prediccion)"
   ]
  },
  {
   "cell_type": "code",
   "execution_count": 319,
   "metadata": {},
   "outputs": [
    {
     "name": "stdout",
     "output_type": "stream",
     "text": [
      "Probabilidad de que sea fraude: [1.0, 1.0, 1.0, 1.0, 1.0, 1.0, 0.8571428571428571, 0.875, 0.77777777777777779, 0.80000000000000004, 0.81818181818181823, 0.83333333333333337, 0.76923076923076927, 0.7857142857142857, 0.80000000000000004, 0.75, 0.76470588235294112, 0.72222222222222221, 0.73684210526315785, 0.75, 0.7142857142857143, 0.72727272727272729, 0.73913043478260865, 0.70833333333333337, 0.71999999999999997, 0.73076923076923073, 0.7407407407407407, 0.7142857142857143, 0.72413793103448276, 0.73333333333333328, 0.74193548387096775, 0.75, 0.75757575757575757]\n"
     ]
    }
   ],
   "source": [
    "Probabilidad = np.cumsum(prediccion)\n",
    "prob = [vector/(i+1) for i,vector in enumerate(Probabilidad)]\n",
    "print('Probabilidad de que sea fraude:',prob)"
   ]
  },
  {
   "cell_type": "code",
   "execution_count": null,
   "metadata": {
    "collapsed": true
   },
   "outputs": [],
   "source": []
  }
 ],
 "metadata": {
  "anaconda-cloud": {},
  "kernelspec": {
   "display_name": "Python 3",
   "language": "python",
   "name": "python3"
  },
  "language_info": {
   "codemirror_mode": {
    "name": "ipython",
    "version": 3
   },
   "file_extension": ".py",
   "mimetype": "text/x-python",
   "name": "python",
   "nbconvert_exporter": "python",
   "pygments_lexer": "ipython3",
   "version": "3.6.3"
  }
 },
 "nbformat": 4,
 "nbformat_minor": 2
}
